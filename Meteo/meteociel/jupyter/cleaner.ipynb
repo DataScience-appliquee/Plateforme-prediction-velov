{
 "cells": [
  {
   "cell_type": "code",
   "execution_count": null,
   "metadata": {
    "collapsed": true
   },
   "outputs": [],
   "source": [
    "#!/usr/bin/python\n",
    "\n",
    "def cleaner(source):\n",
    "    \"Clean all source code to make something sweet or at least, trying to\"\n",
    "    # Brute encode to utf-8 because source code looks like a mix between iso-8859-1 and something else (kind of a joke isn't it ?)\n",
    "    # It seems to be ok but at html.fromString(trueCode) it's going crazy, it changes string's charset \n",
    "    # which is making me crazy. Doesn't matter, I have another solution ;)\n",
    "    #source = source.encode(\"utf-8\")\n",
    "    #source = UnicodeDammit(source)\n",
    "    #source = source.unicode_markup\n",
    "\n",
    "    # Getting the one and only useful code in all of this garbage\n",
    "    startIndex = source.index(\"<table width=100% border=1 cellpadding=1 cellspacing=0 bordercolor=#C0C8FE bgcolor=#EBFAF7>\")\n",
    "    startingCode = source[startIndex:]\n",
    "    endIndex = startingCode.index(\"</table>\")\n",
    "    trueCode = startingCode[:endIndex+8]\n",
    "\n",
    "    # It would have been easier if it worked on this shitty website source code...\n",
    "    #print(clean_html(trueCode))\n",
    "\n",
    "    # but instead, I have to clean this mess manually... \n",
    "    trueCode = trueCode.replace(\"<br>\", \"\")\n",
    "    trueCode = trueCode.replace(\"<i>\", \"\")\n",
    "    trueCode = trueCode.replace(\"</i>\", \"\")\n",
    "    trueCode = trueCode.replace(\"<b>\", \"\")\n",
    "    trueCode = trueCode.replace(\"</b>\", \"\")\n",
    "    trueCode = trueCode.replace(\"&nbsp;\", \" \")\n",
    "    trueCode = trueCode.replace(\"&nbsp\", \"\")\n",
    "    trueCode = trueCode.replace(\" align=center\", \"\")\n",
    "    trueCode = trueCode.replace(\" align=\\\"center\\\"\", \"\")\n",
    "    trueCode = trueCode.replace(\" colspan=2\", \"\")\n",
    "    trueCode = trueCode.replace(\"<div>\", \"\")\n",
    "    trueCode = trueCode.replace(\"</div>\", \"\")\n",
    "\n",
    "    # Delete all units\n",
    "    trueCode = trueCode.replace(\" hPa\", \"\")\n",
    "    trueCode = trueCode.replace(\" h\", \"\")\n",
    "    trueCode = trueCode.replace(\" km/h\", \"\")\n",
    "    trueCode = trueCode.replace(\"%\", \"\")\n",
    "    trueCode = trueCode.replace(\" km\", \"\")\n",
    "    trueCode = trueCode.replace(\" aucune\", \"0\")\n",
    "\n",
    "    #... and apply my encoding charset solution !\n",
    "    trueCode = trueCode.replace(u\"\\xe9\", \"e\")\n",
    "    trueCode = trueCode.replace(u\" \\xb0C\", \"\")\n",
    "    \n",
    "    return trueCode"
   ]
  }
 ],
 "metadata": {
  "kernelspec": {
   "display_name": "Python [Root]",
   "language": "python",
   "name": "Python [Root]"
  },
  "language_info": {
   "codemirror_mode": {
    "name": "ipython",
    "version": 3
   },
   "file_extension": ".py",
   "mimetype": "text/x-python",
   "name": "python",
   "nbconvert_exporter": "python",
   "pygments_lexer": "ipython3",
   "version": "3.5.2"
  }
 },
 "nbformat": 4,
 "nbformat_minor": 0
}
